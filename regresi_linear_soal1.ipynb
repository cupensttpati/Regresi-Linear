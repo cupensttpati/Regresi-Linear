{
  "nbformat": 4,
  "nbformat_minor": 0,
  "metadata": {
    "colab": {
      "provenance": []
    },
    "kernelspec": {
      "name": "python3",
      "display_name": "Python 3"
    },
    "language_info": {
      "name": "python"
    }
  },
  "cells": [
    {
      "cell_type": "code",
      "execution_count": 12,
      "metadata": {
        "id": "daVYGlwLOHG8"
      },
      "outputs": [],
      "source": [
        "from scipy import stats"
      ]
    },
    {
      "cell_type": "code",
      "source": [
        "x = [165,167,169,171,173,160,179,163,175,157]"
      ],
      "metadata": {
        "id": "hca-nhPbORWs"
      },
      "execution_count": 21,
      "outputs": []
    },
    {
      "cell_type": "code",
      "source": [
        "y= [60,65,56,91,47,57,76,72,62,48]"
      ],
      "metadata": {
        "id": "Mo6ajUMXOeit"
      },
      "execution_count": 22,
      "outputs": []
    },
    {
      "cell_type": "code",
      "source": [
        "slope, intercept, r, p, std_err = stats.linregress(x,y)"
      ],
      "metadata": {
        "id": "LRiHhxyLOoRd"
      },
      "execution_count": 15,
      "outputs": []
    },
    {
      "cell_type": "code",
      "source": [
        "def cupenfunct(x):\n",
        "  return slope * x + intercept"
      ],
      "metadata": {
        "id": "K42j0jIXOvNw"
      },
      "execution_count": 16,
      "outputs": []
    },
    {
      "cell_type": "code",
      "source": [
        "berat_cupen = cupenfunct(167)"
      ],
      "metadata": {
        "id": "QMknbjdpO38Q"
      },
      "execution_count": 19,
      "outputs": []
    },
    {
      "cell_type": "code",
      "source": [
        "print(berat_cupen)"
      ],
      "metadata": {
        "colab": {
          "base_uri": "https://localhost:8080/"
        },
        "id": "ZRO2KbdDO8KT",
        "outputId": "8d13207b-90b3-4a43-87d0-9bb00a612174"
      },
      "execution_count": 23,
      "outputs": [
        {
          "output_type": "stream",
          "name": "stdout",
          "text": [
            "64.82725347140504\n"
          ]
        }
      ]
    },
    {
      "cell_type": "code",
      "source": [],
      "metadata": {
        "id": "ef_KWazdPCGp"
      },
      "execution_count": null,
      "outputs": []
    }
  ]
}